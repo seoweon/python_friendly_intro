{
 "cells": [
  {
   "cell_type": "markdown",
   "metadata": {},
   "source": [
    "# 웹크롤링으로 복붙작업 줄이기"
   ]
  },
  {
   "cell_type": "markdown",
   "metadata": {},
   "source": [
    "## 인터넷도 결국은 데이터소스\n",
    "지금까지 우리는 파이썬으로 엑셀에 있는 정보를 불러와 가공을 하는 방법을 배웠다. 이미 깔끔하게 정리되어 있는 자료만 다루는 것으로 업무를 수행할 수 있는 세상이라면 좋겠지만 현실에서는 다양한 곳에서 정보를 끌어와 써야만 하는 경우가 많다. 회사 내부 데이터는 엑셀로 정리할 수 있지만, 실시간으로 변하는 시장 상황이라던지 경쟁사의 동태를 파악하는 일은 웹을 통해 접해야 하는 경우가 대부분이다. 업무를 하다 보면 웹에 있는 정보를 끌어와 엑셀파일로 정리한다든지, 매주 어느 사이트에 새로 업데이트되는 정보를 요약해서 보고서를 작성해야 하는 등의 일이 생기기 마련이다. \n",
    "\n",
    "예시를 들어보자. \n",
    "\n",
    "1. 코스메틱 회사에 다니는 마케팅 담당자 A씨는 진행중인 마케팅 캠페인을 관리하기 위해서 매일 아침 스폰서십 계약을 맺은 네이버 블로그 및 카페 수 십곳의 조회수를 일일이 확인해서 엑셀에 정리해야 한다. 뿐만 아니라 자사 홈페이지의 캠페인 페이지 노출수도 매일 모니터링해야 하고, 고객 반응을 살피기 위해서 SNS에서의 멘션을 일일이 세어서 기록해야 한다. 이 모든 정보는 웹 상에 존재하기 때문에 매일 아침 자동으로 숫자를 기록해주는 프로그램이 있으면 좋겠다고 A씨는 생각을 해본다. \n",
    "2. 전자제품 소매업체의 유통 및 구매 담당자 B씨는 '최저가 보상' 약속을 지키기 위해 매일아침 수십가지 대표상품의 최저가를 일일이 검색해서 자사 제품의 가격을 업데이트해야 한다. 대부분은 가격에 변화가 없을 것을 알고 있으면서도 같은 제품을 매일 다시 검색하는 것도 이제 신물이 난다. 그렇다고 건너뛰었다가는 경쟁업체에게 뒤쳐지기 십상이다. 자동으로 정해진 상품의 최저가를 검색해 알려주는 프로그램이 있다면 얼마나 좋을까. \n",
    "3. 건설업체 HR 담당자 C씨는 몇 되지 않은 경쟁사와 매년 신입 엔지니어 인재 확보를 두고 전쟁을 치뤄야 한다. 모집 공고 시기부터 최종 결정 일자까지 하나라도 잘못 정하면 자칫하다 경쟁사에서 상위권 인재를 전부 가져갈 수도 있다. 매 리크루팅 시즌마다 용의주도하며 경쟁사의 공채 모집공고를 모니터링해야 하는데, 매일 잊어버리지 않고 찾아보는 일도 쉽지 않다. \n",
    "\n",
    "### 그렇다면 웹 정보를 가져오는 일도 파이썬으로 할 수 있을까?\n",
    "물론이다. 위에서 든 예시 전부를 프로그래밍으로  가져올 수 있다. 웹페이지 또한 특정 코딩규칙을 통해 데이터가 정리되어 나타나는 것 뿐이다. 파이썬을 통해서 이 정보를 읽어오고 가공할 수 있다. 이 작업이 바로 웹 크롤링이다. \n",
    "\n",
    "### 웹 크롤링이란?\n",
    "웹 크롤링(Web Crawling)이란 파이썬과 같은 프로그래밍 언어를 통해서 웹페이지에 있는 정보를 읽어와서 원하는 방식으로 가공하는 것을 의미한다. 좀 더 명확하게 이야기하자면, 단독의 웹페이지 내용을 가져오는 것은 웹 스크레이핑 (Web scraping)이라고 한다. 즉, 웹에 있는 정보를 긁어온다(scrape)는 의미이다. 웹 크롤링은 엄밀히 말해서 웹페이지 하나에 접속해 그 안에 있는 링크를 타고 들어가 복수의 페이지에 있는 정보를 가져오는 것을 의미한다. 즉, 웹(Web)이 진짜 거미줄(Spider web) 같이 생겼다고 상상하면, 한 지점에서 시작해서 이곳 저곳으로 기어다니는(Crawl) 개념이라고 보면 된다. 일반적으로 웹크롤링이 좀 더 널리 쓰이는 용어이기 때문에 이 책에서는 편의상 모두 통틀어 웹크롤링이라고 부르도록 하겠다. \n",
    "\n",
    "> **주의!** 웹크롤링은 사실 웹페이지의 정보를 사람이 아닌 프로그램이 읽어오는 것이기 때문에 어느정도 주의가 필요하다. 저작권 또는 데이터베이스(DB)권이 적용되는 정보일 경우, 꼭 원작자나 웹페이지 관리자의 허락을 받아야 한다. 또한 웹페이지에 요청하는 내용과 속도가 사람보다 훨씬 빠르고 방대할 수 있기 때문에 요청한 정보를 가져오는 웹 서버에 과부하가 걸릴 위험이 있다. 똑똑한 웹개발자의 경우, 이를 감안하여 비정상적으로 많은 요청을 보내는 사용자를 찾아내어 접속을 제한하거나 아얘 금지시킬 수도 있다. 욕심내지 말고 적당히 웹크롤링을 사용할 것을 당부한다. \n",
    "\n",
    "### 웹페이지 이해하기\n",
    "웹크롤링을 하기 위한 첫 번째 단계는 바로 웹페이지를 이해하는 작업이다. 대부분의 웹페이지는 HTML(하이퍼텍스트 마크업 언어, HyperText Markup Language의 약자) 이라는 코딩언어를 사용한다. 웹 개발을 접해본 적이 있는 독자라면 익숙할 수도 있지만, 개발 문외한에게는 웹페이지를 읽는 새로운 방식으로 이해될 지도 모른다. 크롬 브라우저에서 원하는 페이지에 가서 Ctrl+Shift+I를 눌러보아라. 또는 \"메뉴 --> 도구 더보기 --> 개발자 도구\"를 클릭해도 같은 개발자 도구 창이 열린다.\n",
    "\n",
    "<img src=\"naver_devtools.JPG\" height=600 width=600 align=left style=\"border:#000000 2px solid;\">"
   ]
  },
  {
   "cell_type": "markdown",
   "metadata": {},
   "source": [
    "\n",
    "그림과 같이 브라우저 한켠에 개발자 도구 (Developer tools)가 나타날 것이다. 가장 첫번째 있는 탭 (Elements)를 보면 페이지의 전체적인 HTML 구성이 어떻게 되어있는 지 볼 수 있다. 웹개발자가 HTML을 손수 한 자 한 자 입력한 결과로 웹페이지가 화면에 표시된다고 이해하면 된다. \n",
    "\n",
    "HTML을 처음 접해본다고 해서 크롤링이 불가능한 것은 아니니, 용기를 가지기 바란다. 그래도 가장 자주 등장하는 몇 가지 기본요소에 대해 알아보자. \n",
    "\n",
    "#### 1. HTML의 구성\n",
    "HTML의 전체적인 구성을 살펴보자면, 크게 이렇게 나뉘어져있는 경우가 많다: \n",
    "\n",
    "```\n",
    "<html>\n",
    "    <head>...</head>\n",
    "    <body>\n",
    "        <div>\n",
    "            <table>...</table>\n",
    "        </div>\n",
    "    </body>\n",
    "</html>\n",
    "```\n",
    "꺾쇠괄호 <> 안에 단어가 써져 있고, 그 뒤 어딘가에 똑같은 단어가 들어간 꺾쇠괄호 안에 슬래시 기호```</>```가 들어간 걸 볼 수 있다. 짝을 이루는 이러한 단어를 태그(Tag)라 칭한다. 짝을 이루는 한 태그 안에 다른 태그가 들어갈 수도 있고 (body 태그 안에 div 태그가 들어가 있고, div 태그 안에 table 태그가 들어가 있는 형식) , 병렬적으로 나열될 수도 있다 (head 태그와 body 태그가 나열된 형식). 이런 포함 및 병렬 구조를 시각적으로 효과적으로 보여주기 위해 들여쓰기를 활용한다. 다음으로는 가장 자주 등장하는 몇 가지 태그의 기능에 대해서 알아보자. \n",
    "\n",
    "#### 2. ```<head>```과 ```<body>```\n",
    "head는 주로 웹페이지의 제목(웹브라우저 탭에 표시되는 내용)과 가시적으로 표시되지 않는 데이터를 저장하는 곳이다. 사실 웹크롤링을 하는 데 있어서 딱히 중요한 곳은 아니니 크롤링을 위해서는 무시해도 좋다. 본문은 body라고 하는 태그 내에 존재하게 되는데, 웹페이지 각 영역 별 어떤 내용이 어떻게 표시될 지 일러주는 부분이다. 개발자 도구에서 ```<body>``` 태그를 찾아 ▶ 표시를 펼쳐보면 그 안에 있는 내용을 확인할 수 있다. \n",
    "\n",
    "#### 2. ```<div>```\n",
    "body의 내용을 펼쳐보았다면, 많은 경우 가장 많이 보이는 태그는 아래 예시와 같은 ```<div>```일 것이다. \n",
    "\n",
    "```\n",
    "<div id=\"container\" class=\"center\">...</div>\n",
    "```\n",
    "div는 division의 약자로, 웹페이지의 구역을 박스로 나누는 가장 기본적인 단위이다. 현재 웹페이지에서 개발자 툴을 살펴보고 있다면, div 툴 위에 마우스를 올려놓아보자. 웹페이지 상에서 어떤 구역의 색깔이 파란색, 초록색 또는 주황색으로 쉐이딩되는 것을 볼 수 있을 것이다. \n",
    "\n",
    "가끔 태그의 꺾쇠괄호 안에 id=\"\"나 class=\"\"같은 표현을 볼 수 있다. id는 특정 태그를 나중에 찾기 위해서 고유로 인식할 수 있는 용어를 붙여주는 것이고, class는 여러개의 다른 태그와 함께 묶어 분류하기 위한 구분이다. \n",
    "\n",
    "#### 3. ```<table>```\n",
    "웹페이지에 테이블이 그대로 표시가 되는 경우도 종종 있다. 앞서 살펴본 body 내에서도 주로 여러개의 div 태그 안에 묻혀있는 경우가 많으므로 이를 살펴보기 위해서는 역으로 웹페이지에 있는 테이블에 마우스를 올려놓고 우클릭 --> 요소검사를 선택해보자. 자동으로 접혀있던 태그를 열어서 테이블 단위까지 표시가 될 것이다. 테이블의 구성요소는 다음과 같다: \n",
    "\n",
    "```\n",
    "<table>\n",
    "    <tr>\n",
    "        <th>...</th>\n",
    "        ...\n",
    "    </tr>\n",
    "    <tr>\n",
    "        <td>...</td>\n",
    "        ...\n",
    "    </tr>\n",
    "    ...\n",
    "</table>\n",
    "```\n",
    "table 태그는 전체 테이블의 영역을 정의하며, tr 태그는 각 행 (table row)의 영역을 정의한다. 첫번째 행에는 주로 테이블 제목이 들어가며, 테이블 제목 셀은 th 태그 (table heading)를 이용한다. 마지막으로, 제목행 아래 이어지는 행에 들어가는 각 셀의 내용은 td 태그 (table data)를 이용해서 표현한다. 크롤링을 할 때 가장 손쉽게 데이터를 가져올 수 있게끔 자료가 정리된 형식이므로, 초보자에게 가장 적합한 크롤링 형태라고 볼 수 있다. \n",
    "\n",
    "\n",
    "HTML의 구성 요소랑 작동방식에 대해 안다면 좀 더 정교한 툴을 만드는 게 가능하지만, 간단한 웹페이지의 경우 전문적인 지식 없이도 기본적인 크롤링이 가능하다. (HTML에  대해 좀 더 자세하게 이해하고 싶다면 [HTML 위키피디아 페이지](https://ko.wikipedia.org/wiki/HTML)를 참고하도록) 어느정도의 탐구로 원하는 정보의 작동 방법을 읽어낼 수 있으면 된다.\n",
    "\n",
    "## 웹크롤링 실습하기\n",
    "경험이 쌓이고 HTML과 파이썬에 대한 지식이 쌓이면 물론 복잡다단한 웹사이트도 크롤링할 수 있겠지만, 초보자 단계에서 할 수 있는 사이트도 충분히 존재한다. \n",
    "웹크롤링을 위한 다양한 라이브러리가 존재하는데, 가장 대표적으로 사용되는 것은 requests, BeautifulSoup, selenium 등이 있다. \n",
    "\n",
    "### 가장 간단한 테이블 웹크롤링하기\n",
    "새로운 라이브러리를 배우는 것도 좋지만, 이미 배운 라이브러리만을 활용해서 웹크롤링을 할 수도 있다. 특히, [사람인의 생중계 페이지](http://www.saramin.co.kr/zf_user/help/live)처럼 표 (테이블) 하나로 웹페이지의 거의 전체가 구성된 경우, pandas 라이브러리만 이용해서 간단하게 긁어올 수 있다. \n",
    "\n",
    "예시로 돌아가면, HR담당자의 경우 타 기업의 공채모집공고에 귀기울일 필요가 있다. 벤치마킹 대상으로 삼을 수도 있고, 경쟁사의 모집 시기를 모니터링해서 자사의 모집공고를 조절할 수도 있을 것이다. \n",
    "\n",
    "<img src=\"saramin.jpg\" width=800 align=left style=\"border:#000000 2px solid;\">"
   ]
  },
  {
   "cell_type": "markdown",
   "metadata": {},
   "source": [
    "#### 1. 라이브러리 불러오기\n",
    "pandas 라이브러리를 불러오자. 이번 예시에서 필요한 라이브러리는 pandas 밖에 없다. "
   ]
  },
  {
   "cell_type": "code",
   "execution_count": 1,
   "metadata": {
    "collapsed": true
   },
   "outputs": [],
   "source": [
    "import pandas as pd"
   ]
  },
  {
   "cell_type": "markdown",
   "metadata": {},
   "source": [
    "#### 2. 링크 저장하기\n",
    "이번 에시에서는 사람인의 생중계 페이지를 이용하도록 하겠다. "
   ]
  },
  {
   "cell_type": "code",
   "execution_count": 2,
   "metadata": {
    "collapsed": true
   },
   "outputs": [],
   "source": [
    "saraminlink = 'http://www.saramin.co.kr/zf_user/help/live'"
   ]
  },
  {
   "cell_type": "markdown",
   "metadata": {},
   "source": [
    "#### 3. read_html 기능 사용하기\n",
    "pandas 기증 중에 포함된 read_html 기능을 사용하면 pandas에서 자동으로 웹페이지에 있는 테이블을 인식해 내용을 가져온다. "
   ]
  },
  {
   "cell_type": "code",
   "execution_count": 3,
   "metadata": {
    "collapsed": false
   },
   "outputs": [],
   "source": [
    "saramin_scrape = pd.read_html(saraminlink)"
   ]
  },
  {
   "cell_type": "markdown",
   "metadata": {},
   "source": [
    "이렇게 가져온 데이터를 살펴보면, 웹페이지에 있던 테이블이 대괄호 안의 리스트 형식으로 옮겨져 온 것을 볼 수 있다. "
   ]
  },
  {
   "cell_type": "code",
   "execution_count": 4,
   "metadata": {
    "collapsed": false,
    "scrolled": false
   },
   "outputs": [
    {
     "name": "stdout",
     "output_type": "stream",
     "text": [
      "[     0                                                1                 2\n",
      "0   공채              [한솔그룹] 2017 하반기 대졸 신입사원 모집 (~10/23)  2017/09/29 17:23\n",
      "1   공채           [한전KPS㈜] 2017년도 하반기 신입사원 모집요강 (~10/16)  2017/09/29 16:57\n",
      "2   공채             [SK증권㈜] 2017 하반기 대졸 신입사원 채용 (~10/22)  2017/09/29 16:22\n",
      "3   소식                  [★취준탈출 큐레이션★] 좋은건 같이봐요 #학력별_꿀팁♡  2017/09/29 15:17\n",
      "4   공채          [㈜선진] ㈜선진 2017년 하반기 신입/경력 공개채용 (~10/15)  2017/09/29 15:04\n",
      "5   공채                [한국철도시설공단] 2017년 신입직원 채용 (~10/12)  2017/09/29 14:04\n",
      "6   공채       [한국수자원공사] 2017년 하반기 일반직 신입/전문직 공채 (~10/13)  2017/09/29 13:08\n",
      "7   공채       [신한금융투자] 2017 신한금융투자 신입사원 Recruit (~10/13)  2017/09/27 10:41\n",
      "8   공채             [동부건설㈜] 2017년 채용연계형 인턴사원 채용 (~10/17)  2017/09/26 17:17\n",
      "9   공채            [㈜아모레퍼시픽] 2017 하반기 신입사원 공개채용 (~10/13)  2017/09/26 16:30\n",
      "10  공채        [㈜이니스프리] 2017 하반기 신입사원(일반직) 공개채용 (~10/13)  2017/09/26 13:59\n",
      "11  공채          [경기도] 2017년 하반기 경기도 공공기관, 열린채용 (~10/16)  2017/09/25 17:43\n",
      "12  공채                  [㈜대한항공] 2018년도 신입사원 모집 (~10/13)  2017/09/25 14:25\n",
      "13  공채          [㈜GS글로벌] GS글로벌 2018년 대졸신입사원 모집 (~10/11)  2017/09/25 10:05\n",
      "14  공채       [금호석유화학그룹] 17년도 하반기 대졸 신입/경력사원 모집 (~10/16)  2017/09/25 09:21\n",
      "15  공채  [한국토지주택공사] 2017년 하반기 신입직원(정규직) 일반/고졸공채 (~10/12)  2017/09/22 15:19\n",
      "16  공채       [한국전력공사] 2017년 하반기 대졸수준 신입사원 공개채용 (~10/13)  2017/09/20 18:31\n",
      "17  공채            [㈜하나투어] 하나투어 2017년 대졸신입사원 공채 (~10/11)  2017/09/20 09:39\n",
      "18  공채                [동원그룹] 2017 동원그룹 신입사원 채용 (~10/16)  2017/09/19 17:56\n",
      "19  공채          [현대백화점그룹] 2017년 하반기 대졸 신입사원 채용 (~10/19)  2017/09/18 16:33]\n"
     ]
    }
   ],
   "source": [
    "print(saramin_scrape)"
   ]
  },
  {
   "cell_type": "markdown",
   "metadata": {},
   "source": [
    "pandas로 가져온 데이터가 데이터 테이블이 아닌 리스트 형식으로 저장되는 이유는 무엇일까? 웹페이지 하나 안에 두 개 이상의 테이블이 존재할 수 있기 때문이다. 현재 예시에서는 테이블이 하나밖에 없기 때문에 리스트가 필요없지만, 여러개의 테이블을 한꺼번에 가져오는 경우에는 요긴하게 쓰일 수 있다. "
   ]
  },
  {
   "cell_type": "markdown",
   "metadata": {},
   "source": [
    "#### 4. 원하는 테이블 저장하기\n",
    "우리가 가공하기 쉬운 데이터 테이블로 접하기 위해서는 리스트의 첫번째 항목 ([0])을 선택해 따로 저장하자. "
   ]
  },
  {
   "cell_type": "code",
   "execution_count": 5,
   "metadata": {
    "collapsed": false
   },
   "outputs": [],
   "source": [
    "saramin_table = saramin_scrape[0]"
   ]
  },
  {
   "cell_type": "code",
   "execution_count": 6,
   "metadata": {
    "collapsed": false,
    "scrolled": false
   },
   "outputs": [
    {
     "data": {
      "text/html": [
       "<div>\n",
       "<table border=\"1\" class=\"dataframe\">\n",
       "  <thead>\n",
       "    <tr style=\"text-align: right;\">\n",
       "      <th></th>\n",
       "      <th>0</th>\n",
       "      <th>1</th>\n",
       "      <th>2</th>\n",
       "    </tr>\n",
       "  </thead>\n",
       "  <tbody>\n",
       "    <tr>\n",
       "      <th>0</th>\n",
       "      <td>공채</td>\n",
       "      <td>[한솔그룹] 2017 하반기 대졸 신입사원 모집 (~10/23)</td>\n",
       "      <td>2017/09/29 17:23</td>\n",
       "    </tr>\n",
       "    <tr>\n",
       "      <th>1</th>\n",
       "      <td>공채</td>\n",
       "      <td>[한전KPS㈜] 2017년도 하반기 신입사원 모집요강 (~10/16)</td>\n",
       "      <td>2017/09/29 16:57</td>\n",
       "    </tr>\n",
       "    <tr>\n",
       "      <th>2</th>\n",
       "      <td>공채</td>\n",
       "      <td>[SK증권㈜] 2017 하반기 대졸 신입사원 채용 (~10/22)</td>\n",
       "      <td>2017/09/29 16:22</td>\n",
       "    </tr>\n",
       "    <tr>\n",
       "      <th>3</th>\n",
       "      <td>소식</td>\n",
       "      <td>[★취준탈출 큐레이션★] 좋은건 같이봐요 #학력별_꿀팁♡</td>\n",
       "      <td>2017/09/29 15:17</td>\n",
       "    </tr>\n",
       "    <tr>\n",
       "      <th>4</th>\n",
       "      <td>공채</td>\n",
       "      <td>[㈜선진] ㈜선진 2017년 하반기 신입/경력 공개채용 (~10/15)</td>\n",
       "      <td>2017/09/29 15:04</td>\n",
       "    </tr>\n",
       "    <tr>\n",
       "      <th>5</th>\n",
       "      <td>공채</td>\n",
       "      <td>[한국철도시설공단] 2017년 신입직원 채용 (~10/12)</td>\n",
       "      <td>2017/09/29 14:04</td>\n",
       "    </tr>\n",
       "    <tr>\n",
       "      <th>6</th>\n",
       "      <td>공채</td>\n",
       "      <td>[한국수자원공사] 2017년 하반기 일반직 신입/전문직 공채 (~10/13)</td>\n",
       "      <td>2017/09/29 13:08</td>\n",
       "    </tr>\n",
       "    <tr>\n",
       "      <th>7</th>\n",
       "      <td>공채</td>\n",
       "      <td>[신한금융투자] 2017 신한금융투자 신입사원 Recruit (~10/13)</td>\n",
       "      <td>2017/09/27 10:41</td>\n",
       "    </tr>\n",
       "    <tr>\n",
       "      <th>8</th>\n",
       "      <td>공채</td>\n",
       "      <td>[동부건설㈜] 2017년 채용연계형 인턴사원 채용 (~10/17)</td>\n",
       "      <td>2017/09/26 17:17</td>\n",
       "    </tr>\n",
       "    <tr>\n",
       "      <th>9</th>\n",
       "      <td>공채</td>\n",
       "      <td>[㈜아모레퍼시픽] 2017 하반기 신입사원 공개채용 (~10/13)</td>\n",
       "      <td>2017/09/26 16:30</td>\n",
       "    </tr>\n",
       "    <tr>\n",
       "      <th>10</th>\n",
       "      <td>공채</td>\n",
       "      <td>[㈜이니스프리] 2017 하반기 신입사원(일반직) 공개채용 (~10/13)</td>\n",
       "      <td>2017/09/26 13:59</td>\n",
       "    </tr>\n",
       "    <tr>\n",
       "      <th>11</th>\n",
       "      <td>공채</td>\n",
       "      <td>[경기도] 2017년 하반기 경기도 공공기관, 열린채용 (~10/16)</td>\n",
       "      <td>2017/09/25 17:43</td>\n",
       "    </tr>\n",
       "    <tr>\n",
       "      <th>12</th>\n",
       "      <td>공채</td>\n",
       "      <td>[㈜대한항공] 2018년도 신입사원 모집 (~10/13)</td>\n",
       "      <td>2017/09/25 14:25</td>\n",
       "    </tr>\n",
       "    <tr>\n",
       "      <th>13</th>\n",
       "      <td>공채</td>\n",
       "      <td>[㈜GS글로벌] GS글로벌 2018년 대졸신입사원 모집 (~10/11)</td>\n",
       "      <td>2017/09/25 10:05</td>\n",
       "    </tr>\n",
       "    <tr>\n",
       "      <th>14</th>\n",
       "      <td>공채</td>\n",
       "      <td>[금호석유화학그룹] 17년도 하반기 대졸 신입/경력사원 모집 (~10/16)</td>\n",
       "      <td>2017/09/25 09:21</td>\n",
       "    </tr>\n",
       "    <tr>\n",
       "      <th>15</th>\n",
       "      <td>공채</td>\n",
       "      <td>[한국토지주택공사] 2017년 하반기 신입직원(정규직) 일반/고졸공채 (~10/12)</td>\n",
       "      <td>2017/09/22 15:19</td>\n",
       "    </tr>\n",
       "    <tr>\n",
       "      <th>16</th>\n",
       "      <td>공채</td>\n",
       "      <td>[한국전력공사] 2017년 하반기 대졸수준 신입사원 공개채용 (~10/13)</td>\n",
       "      <td>2017/09/20 18:31</td>\n",
       "    </tr>\n",
       "    <tr>\n",
       "      <th>17</th>\n",
       "      <td>공채</td>\n",
       "      <td>[㈜하나투어] 하나투어 2017년 대졸신입사원 공채 (~10/11)</td>\n",
       "      <td>2017/09/20 09:39</td>\n",
       "    </tr>\n",
       "    <tr>\n",
       "      <th>18</th>\n",
       "      <td>공채</td>\n",
       "      <td>[동원그룹] 2017 동원그룹 신입사원 채용 (~10/16)</td>\n",
       "      <td>2017/09/19 17:56</td>\n",
       "    </tr>\n",
       "    <tr>\n",
       "      <th>19</th>\n",
       "      <td>공채</td>\n",
       "      <td>[현대백화점그룹] 2017년 하반기 대졸 신입사원 채용 (~10/19)</td>\n",
       "      <td>2017/09/18 16:33</td>\n",
       "    </tr>\n",
       "  </tbody>\n",
       "</table>\n",
       "</div>"
      ],
      "text/plain": [
       "     0                                                1                 2\n",
       "0   공채              [한솔그룹] 2017 하반기 대졸 신입사원 모집 (~10/23)  2017/09/29 17:23\n",
       "1   공채           [한전KPS㈜] 2017년도 하반기 신입사원 모집요강 (~10/16)  2017/09/29 16:57\n",
       "2   공채             [SK증권㈜] 2017 하반기 대졸 신입사원 채용 (~10/22)  2017/09/29 16:22\n",
       "3   소식                  [★취준탈출 큐레이션★] 좋은건 같이봐요 #학력별_꿀팁♡  2017/09/29 15:17\n",
       "4   공채          [㈜선진] ㈜선진 2017년 하반기 신입/경력 공개채용 (~10/15)  2017/09/29 15:04\n",
       "5   공채                [한국철도시설공단] 2017년 신입직원 채용 (~10/12)  2017/09/29 14:04\n",
       "6   공채       [한국수자원공사] 2017년 하반기 일반직 신입/전문직 공채 (~10/13)  2017/09/29 13:08\n",
       "7   공채       [신한금융투자] 2017 신한금융투자 신입사원 Recruit (~10/13)  2017/09/27 10:41\n",
       "8   공채             [동부건설㈜] 2017년 채용연계형 인턴사원 채용 (~10/17)  2017/09/26 17:17\n",
       "9   공채            [㈜아모레퍼시픽] 2017 하반기 신입사원 공개채용 (~10/13)  2017/09/26 16:30\n",
       "10  공채        [㈜이니스프리] 2017 하반기 신입사원(일반직) 공개채용 (~10/13)  2017/09/26 13:59\n",
       "11  공채          [경기도] 2017년 하반기 경기도 공공기관, 열린채용 (~10/16)  2017/09/25 17:43\n",
       "12  공채                  [㈜대한항공] 2018년도 신입사원 모집 (~10/13)  2017/09/25 14:25\n",
       "13  공채          [㈜GS글로벌] GS글로벌 2018년 대졸신입사원 모집 (~10/11)  2017/09/25 10:05\n",
       "14  공채       [금호석유화학그룹] 17년도 하반기 대졸 신입/경력사원 모집 (~10/16)  2017/09/25 09:21\n",
       "15  공채  [한국토지주택공사] 2017년 하반기 신입직원(정규직) 일반/고졸공채 (~10/12)  2017/09/22 15:19\n",
       "16  공채       [한국전력공사] 2017년 하반기 대졸수준 신입사원 공개채용 (~10/13)  2017/09/20 18:31\n",
       "17  공채            [㈜하나투어] 하나투어 2017년 대졸신입사원 공채 (~10/11)  2017/09/20 09:39\n",
       "18  공채                [동원그룹] 2017 동원그룹 신입사원 채용 (~10/16)  2017/09/19 17:56\n",
       "19  공채          [현대백화점그룹] 2017년 하반기 대졸 신입사원 채용 (~10/19)  2017/09/18 16:33"
      ]
     },
     "execution_count": 6,
     "metadata": {},
     "output_type": "execute_result"
    }
   ],
   "source": [
    "saramin_table"
   ]
  },
  {
   "cell_type": "markdown",
   "metadata": {},
   "source": [
    "#### 5. 엑셀에 저장하기\n",
    "원하는 데이터를 가져왔으면 엑셀로 저장해서 사용하면 된다. "
   ]
  },
  {
   "cell_type": "code",
   "execution_count": 7,
   "metadata": {
    "collapsed": true
   },
   "outputs": [],
   "source": [
    "saramin_table.to_excel('사람인_생중계.xlsx', index=False)"
   ]
  },
  {
   "cell_type": "markdown",
   "metadata": {},
   "source": [
    "### url의 이해를 통해 한단계 업그레이드하기\n",
    "개별적인 웹페이지를 하나씩 크롤링하는 것도 좋지만, 진짜 귀찮은 작업은 여러 페이지에 걸쳐 정보를 가져와야 할 때 생긴다. 사람인의 취업 생중계 페이지도 한 페이지당 결과가 20개씩밖에 조회되지 않는다. 아래로 스크롤해서 살펴보면 여러 페이지에 나뉘어서 데이터가 있는걸 볼 수 있다.  \n",
    "\n",
    "<img src=\"saramin2.jpg\" width=800 align=left style=\"border:#000000 2px solid;\">"
   ]
  },
  {
   "cell_type": "markdown",
   "metadata": {},
   "source": [
    "### 페이지 번호 넘나들기\n",
    "크롤링을 하는 데 있어서 여러 페이지를 넘나드는 방법에는 여러가지가 있겠지만, 가장 기본적인 방법은 직접 링크를 눌러보면서 규칙을 살펴보는 것이다. 2페이지 버튼을 눌러보면 어떻게 되는 건 지 살펴보자. \n",
    "\n",
    "<img src=\"saramin3.jpg\" width=800 align=left style=\"border:#000000 2px solid;\">"
   ]
  },
  {
   "cell_type": "markdown",
   "metadata": {},
   "source": [
    "기존의 url (www.saramin.co.kr/zf_user/help/live/) 다음에 새로운 문자열 (index/page/2?menu=1)이 붙은 걸 볼 수 있다. \n",
    "\n",
    "분명 규칙이 있을 것이다. 3페이지를 누르면 어떻게 될까?\n",
    "\n",
    "<img src=\"saramin4.jpg\" width=800 align=left style=\"border:#000000 2px solid;\">"
   ]
  },
  {
   "cell_type": "markdown",
   "metadata": {},
   "source": [
    "숫자가 2에서 3으로 바뀐 걸 볼 수 있다. 반대로 url에서 3을 99로 바꿔보면 99번째 페이지로 가는 걸 볼 수 있다. 이제, 페이지 번호 별 url을 추측할 수 있게 된 것이다. \n",
    "\n",
    "그렇다면 그 뒤의 \"?menu=1\"은 무엇일까? 내가 원하는 정보를 가져오는 데 영향을 미치지 않으면 몰라도 되는 게 사실이다. 뭔진 모르겠지만, url에서 이 부분을 지우고 다시 실행을 해봐도 같은 결과가 나온다. \n",
    "\n",
    "그렇다면 웹페이지를 생성하는 데 있어 이 논리가 코드로 통하는 지 한 번 실험해보자. "
   ]
  },
  {
   "cell_type": "code",
   "execution_count": 8,
   "metadata": {
    "collapsed": false
   },
   "outputs": [
    {
     "name": "stdout",
     "output_type": "stream",
     "text": [
      "http://www.saramin.co.kr/zf_user/help/live/index/page/1\n",
      "http://www.saramin.co.kr/zf_user/help/live/index/page/2\n",
      "http://www.saramin.co.kr/zf_user/help/live/index/page/3\n",
      "http://www.saramin.co.kr/zf_user/help/live/index/page/4\n"
     ]
    }
   ],
   "source": [
    "#1부터 4까지 페이지 url 생성을 위한 재귀함수 생성\n",
    "for i in range(1, 5):\n",
    "    #결과를 프린트해 클릭해볼 수 있도록 한다. \n",
    "    #유의사항: integer인 i를 string인 url에 붙이기 위해서는 str() 함수를 통해 i를 string으로 변환시켜야 한다. \n",
    "    print('http://www.saramin.co.kr/zf_user/help/live/index/page/'+str(i))"
   ]
  },
  {
   "cell_type": "markdown",
   "metadata": {},
   "source": [
    "### 검색 조건 입력하기\n",
    "자, 그럼 한 단계 더 나아가서 검색어와 기준년도를 입력해보자. 건설업계 HR담당자가 되었다고 가정하고 2017년 건설사에서 올라온 모집공고를 확인한다고 생각해보자. \n",
    "\n",
    "<img src=\"saramin5.jpg\" width=800 align=left style=\"border:#000000 2px solid;\">"
   ]
  },
  {
   "cell_type": "markdown",
   "metadata": {},
   "source": [
    "url이 한 번 더 변한 걸 볼 수 있다. 물음표 다음에 몇 가지 변수가 보이고 & 표시로 이어진 것도 볼 수 있다. 물음표는 url에서 쿼리(Query)를 의미하는데, 정보를 보여주는 데 있어서의 변수(검색 조건이나 데이터 필터링을 위한 정보 등) 를 나열하는 쿼리스트링(Query String)이 뒤따른다. 쿼리스트링은 **?변수1=값1&변수2=값2&변수3=값3**와 같이 & 표시를 끼고 나열을 하게 된다. \n",
    "\n",
    "위 url의 변수를 나열해보면 다음과 같다. \n",
    "\n",
    "* listType=\n",
    "* categoroy=\n",
    "* base_year=2017\n",
    "* keyword=건설\n",
    "\n",
    "listType과 category의 경우에 값이 설정되지 않은 변수라는 것을 확인할 수 있는데, 이는 url에서 지우고 새로고침을 해도 같은 결과를 보여주는 것을 확인할 수 있을 것이다. \n",
    "\n",
    "반면, base_year는 기준년도에서 설정한 2017년으로, 그리고 keyword는 검색어인 '건설'이 값으로 설정된 것을 볼 수 있다. 역으로 url에서 기준년도와 검색어를 바꿔도 그에 상응하는 데이터를 돌려받을 수 있게 된 것이다. \n",
    "\n",
    "다시 한번 페이지수와 함께 쓸 수 있는 지 실험해보자. "
   ]
  },
  {
   "cell_type": "code",
   "execution_count": 9,
   "metadata": {
    "collapsed": false
   },
   "outputs": [
    {
     "name": "stdout",
     "output_type": "stream",
     "text": [
      "http://www.saramin.co.kr/zf_user/help/live/index/page/1?base_year=2015&keyword=엔지니어\n",
      "http://www.saramin.co.kr/zf_user/help/live/index/page/2?base_year=2015&keyword=엔지니어\n",
      "http://www.saramin.co.kr/zf_user/help/live/index/page/3?base_year=2015&keyword=엔지니어\n",
      "http://www.saramin.co.kr/zf_user/help/live/index/page/4?base_year=2015&keyword=엔지니어\n"
     ]
    }
   ],
   "source": [
    "#1부터 4까지 페이지 url 생성을 위한 재귀함수 생성\n",
    "for i in range(1, 5):\n",
    "    #기준년도를 2015년으로 설정하자\n",
    "    base_year = '2015'\n",
    "    #이번에 검색어는 '엔지니어'로 해보도록 한다. \n",
    "    keyword = '엔지니어'\n",
    "    #결과를 프린트해 클릭해볼 수 있도록 한다. \n",
    "    #url 생성 규칙을 바탕으로 쿼리스트링을 부착하고, 위에서 설정한 기준년도와 키워드를 추가하자.  \n",
    "    print('http://www.saramin.co.kr/zf_user/help/live/index/page/'+str(i)+'?base_year='+base_year+'&keyword='+keyword)"
   ]
  },
  {
   "cell_type": "markdown",
   "metadata": {},
   "source": [
    "직접 웹페이지에서 입력하지 않고도 원하는 검색어와 기준년도를 설정할 수 있게 된 것이다. \n",
    "\n",
    "### 마지막 페이지 인식하기\n",
    "하지만 아직 문제는 있다. 위의 세 번째, 네 번째 링크를 선택하면, 다음과 같은 창이 나오는 것을 볼 수 있다: \n",
    "\n",
    "<img src=\"saramin6.jpg\" width=800 align=left style=\"border:#000000 2px solid;\">"
   ]
  },
  {
   "cell_type": "markdown",
   "metadata": {},
   "source": [
    "이를 pandas의 get_html로 가져와 보면 다음과 같은 결과가 나온다. "
   ]
  },
  {
   "cell_type": "code",
   "execution_count": 10,
   "metadata": {
    "collapsed": false
   },
   "outputs": [
    {
     "data": {
      "text/html": [
       "<div>\n",
       "<table border=\"1\" class=\"dataframe\">\n",
       "  <thead>\n",
       "    <tr style=\"text-align: right;\">\n",
       "      <th></th>\n",
       "      <th>0</th>\n",
       "    </tr>\n",
       "  </thead>\n",
       "  <tbody>\n",
       "    <tr>\n",
       "      <th>0</th>\n",
       "      <td>죄송합니다. 검색하신 조건으로 취업생중계를 찾지 못했습니다.</td>\n",
       "    </tr>\n",
       "  </tbody>\n",
       "</table>\n",
       "</div>"
      ],
      "text/plain": [
       "                                   0\n",
       "0  죄송합니다. 검색하신 조건으로 취업생중계를 찾지 못했습니다."
      ]
     },
     "execution_count": 10,
     "metadata": {},
     "output_type": "execute_result"
    }
   ],
   "source": [
    "#4번째 페이지 url을 복사해서 테이블을 가져오고, no_result이라는 이름에 저장하자. \n",
    "no_result = pd.read_html('http://www.saramin.co.kr/zf_user/help/live/index/page/4?base_year=2015&keyword=%EC%97%94%EC%A7%80%EB%8B%88%EC%96%B4')[0]\n",
    "#테이블을 보면 어떻게 나올까?\n",
    "no_result"
   ]
  },
  {
   "cell_type": "markdown",
   "metadata": {},
   "source": [
    "같은 검색조건의 첫 번째 페이지 결과와 대조되는 테이블 형식이다. "
   ]
  },
  {
   "cell_type": "code",
   "execution_count": 11,
   "metadata": {
    "collapsed": false
   },
   "outputs": [
    {
     "data": {
      "text/html": [
       "<div>\n",
       "<table border=\"1\" class=\"dataframe\">\n",
       "  <thead>\n",
       "    <tr style=\"text-align: right;\">\n",
       "      <th></th>\n",
       "      <th>0</th>\n",
       "      <th>1</th>\n",
       "      <th>2</th>\n",
       "    </tr>\n",
       "  </thead>\n",
       "  <tbody>\n",
       "    <tr>\n",
       "      <th>0</th>\n",
       "      <td>소식</td>\n",
       "      <td>[알림] 동부엔지니어링 2016년 대졸신입사원 모집 서류전형 결과 발표 안내</td>\n",
       "      <td>2015/12/10 16:02</td>\n",
       "    </tr>\n",
       "    <tr>\n",
       "      <th>1</th>\n",
       "      <td>공채</td>\n",
       "      <td>[참엔지니어링] 2015년도 신입/경력 공채 합격족보를 확인하세요!!</td>\n",
       "      <td>2015/11/24 17:16</td>\n",
       "    </tr>\n",
       "    <tr>\n",
       "      <th>2</th>\n",
       "      <td>공채</td>\n",
       "      <td>[알림] 탑엔지니어링 2016년 신입/경력 채용 공고 서류전형 결과 발표 안내</td>\n",
       "      <td>2015/11/24 11:02</td>\n",
       "    </tr>\n",
       "    <tr>\n",
       "      <th>3</th>\n",
       "      <td>공채</td>\n",
       "      <td>★최초★[참엔지니어링] 신입/경력 공채(~12/4)</td>\n",
       "      <td>2015/11/23 17:37</td>\n",
       "    </tr>\n",
       "    <tr>\n",
       "      <th>4</th>\n",
       "      <td>공채</td>\n",
       "      <td>[동부엔지니어링] 2016년 대졸신입사원 모집 합격족보를 확인하세요!!</td>\n",
       "      <td>2015/11/11 17:41</td>\n",
       "    </tr>\n",
       "  </tbody>\n",
       "</table>\n",
       "</div>"
      ],
      "text/plain": [
       "    0                                            1                 2\n",
       "0  소식   [알림] 동부엔지니어링 2016년 대졸신입사원 모집 서류전형 결과 발표 안내  2015/12/10 16:02\n",
       "1  공채       [참엔지니어링] 2015년도 신입/경력 공채 합격족보를 확인하세요!!  2015/11/24 17:16\n",
       "2  공채  [알림] 탑엔지니어링 2016년 신입/경력 채용 공고 서류전형 결과 발표 안내  2015/11/24 11:02\n",
       "3  공채                 ★최초★[참엔지니어링] 신입/경력 공채(~12/4)  2015/11/23 17:37\n",
       "4  공채      [동부엔지니어링] 2016년 대졸신입사원 모집 합격족보를 확인하세요!!  2015/11/11 17:41"
      ]
     },
     "execution_count": 11,
     "metadata": {},
     "output_type": "execute_result"
    }
   ],
   "source": [
    "#첫번째 페이지 url을 복사해서 가져오고, 대조를 위해 yes_result이라는 이름에 저장하자. \n",
    "yes_result = pd.read_html('http://www.saramin.co.kr/zf_user/help/live/index/page/1?base_year=2015&keyword=%EC%97%94%EC%A7%80%EB%8B%88%EC%96%B4')[0]\n",
    "#이 테이블은 첫 5행만 살펴보자. \n",
    "yes_result.head()"
   ]
  },
  {
   "cell_type": "markdown",
   "metadata": {},
   "source": [
    "테이블이긴 테이블인데, 행과 열이 하나밖에 없고 그 안에 '죄송합니다. 검색하신 조건으로 취업생중계를 찾지 못했습니다'라는 메세지가 표기된다. \n",
    "\n",
    "만약 이를 인식해 리스트가 끝나는 지점에서 웹크롤링을 멈출 수는 없을까? 물론 찾을 수 있다. 텍스트가 완전히 매칭되는 경우를 찾을 수도 있고, "
   ]
  },
  {
   "cell_type": "code",
   "execution_count": 12,
   "metadata": {
    "collapsed": false,
    "scrolled": true
   },
   "outputs": [
    {
     "data": {
      "text/plain": [
       "True"
      ]
     },
     "execution_count": 12,
     "metadata": {},
     "output_type": "execute_result"
    }
   ],
   "source": [
    "#boolean으로 True/False 여부를 살펴보자. \n",
    "no_result[0][0] == '죄송합니다. 검색하신 조건으로 취업생중계를 찾지 못했습니다.'"
   ]
  },
  {
   "cell_type": "code",
   "execution_count": 13,
   "metadata": {
    "collapsed": false
   },
   "outputs": [
    {
     "data": {
      "text/plain": [
       "False"
      ]
     },
     "execution_count": 13,
     "metadata": {},
     "output_type": "execute_result"
    }
   ],
   "source": [
    "yes_result[0][0] == '죄송합니다. 검색하신 조건으로 취업생중계를 찾지 못했습니다.'"
   ]
  },
  {
   "cell_type": "markdown",
   "metadata": {},
   "source": [
    "첫번째 행 첫번째 열이 '죄송합니다'로 시작하는 지 볼 수도 있다. "
   ]
  },
  {
   "cell_type": "code",
   "execution_count": 14,
   "metadata": {
    "collapsed": false
   },
   "outputs": [
    {
     "data": {
      "text/plain": [
       "True"
      ]
     },
     "execution_count": 14,
     "metadata": {},
     "output_type": "execute_result"
    }
   ],
   "source": [
    "no_result[0][0].startswith('죄송합니다')"
   ]
  },
  {
   "cell_type": "code",
   "execution_count": 15,
   "metadata": {
    "collapsed": false
   },
   "outputs": [
    {
     "data": {
      "text/plain": [
       "False"
      ]
     },
     "execution_count": 15,
     "metadata": {},
     "output_type": "execute_result"
    }
   ],
   "source": [
    "yes_result[0][0].startswith('죄송합니다')"
   ]
  },
  {
   "cell_type": "markdown",
   "metadata": {},
   "source": [
    "### 전체 리스트 웹크롤링하기\n",
    "그럼 지금까지 알아낸 내용을 가지고 2016년 건설 관련 모집공고를 전부 가져와보자. \n",
    "#### 1. 라이브러리 불러오기\n",
    "이번에는 time 라이브러리에서 sleep을 가져오보자. 재귀함수를 돌리는 데 있어서 초 단위로 텀을 둘 수 있게끔 해주는 함수이다. 여러 페이지를 빠른 시간 안에 크롤링을 하기 위한 매너라고 보면 된다. "
   ]
  },
  {
   "cell_type": "code",
   "execution_count": 17,
   "metadata": {
    "collapsed": true
   },
   "outputs": [],
   "source": [
    "import pandas as pd\n",
    "from time import sleep"
   ]
  },
  {
   "cell_type": "markdown",
   "metadata": {},
   "source": [
    "#### 2. while loop으로 마지막 페이지까지 정보 가져오기\n",
    "여러 페이지에 걸쳐있어도 형식이 바뀌지 않으니, pandas의 append 함수를 이용해 이어붙이기를 할 수 있다. 데이터가 끝나는 지점을 포착해서 웹크롤링을 멈추기 위해 위에서 언급한 마지막 페이지 인식 조건문을 활용하도록 한다. \n",
    "\n",
    "다시 한 번 강조하지만, 다음 코드와 같이 여러개의 웹페이지 정보를 파이썬으로 요청할 때는 중간중간에 쉬어갈 수 있는 텀을 두어야 웹페이지를 불러오는 서버에 문제가 생기는 것을 방지할 수 있다. 뿐만 아니라 수상한 사용자로 낙인찍혀 접속 자체가 막히는 불상사도 예방할 수 있다. \n",
    "\n",
    "[한글 인코딩에 대해 더 배우고 싶으면 다음 링크를 클릭하시요](#한글이-포함된-url)"
   ]
  },
  {
   "cell_type": "code",
   "execution_count": 45,
   "metadata": {
    "collapsed": false
   },
   "outputs": [
    {
     "name": "stdout",
     "output_type": "stream",
     "text": [
      "1, 2, 3, 4, 5, 6, 7, 8, 9, end!\n"
     ]
    }
   ],
   "source": [
    "#빈 데이터 프레임(df)과 페이지 수를 셀 수 있는 카운터(n)을 준비하자. \n",
    "df = pd.DataFrame()\n",
    "n = 1\n",
    "\n",
    "while True: \n",
    "    #한글이 포함된 url인 경우 utf-8으로 인코딩을 해서 값을 찾을 수 있지만, 귀찮으므로 실제로 원하는 검색어의 웹페이지를 접속해서 url을 복사하는 것이 빠르다. \n",
    "    link = 'http://www.saramin.co.kr/zf_user/help/live/index/page/'+str(n)+'?keyword=%EA%B1%B4%EC%84%A4&menu=1&base_year=2016'\n",
    "    #첫번째 예시에서 소개한 방법 대로 페이지 별 데이터 테이블을 가져온다. \n",
    "    getting_table = pd.read_html(link)[0]\n",
    "    #지금현재 어느 페이지에 있는 지 보기 위해 카운터 (n)을 프린트하고 다음 loop에서 n을 프린트할 때 줄바꿈 대신 ', '를 프린트하기 위해 end=', ' 변수를 더해준다. \n",
    "    print(n,end=', ')\n",
    "    #데이터가 존재하지 않는 테이블에 봉착하게 될 경우 while loop을 끝내도록 하는 조건문을 추가한다. \n",
    "    if getting_table[0][0].startswith('죄송합니다'):\n",
    "        #마지막 출력값이 쉼표로 끝나면 어색하니, 끝맺음을 알리는 문구를 달아주자. \n",
    "        print('end!')\n",
    "        #while loop을 벗어나는 방법은 break. \n",
    "        break\n",
    "    #위에서 준비한 빈 데이터 프레임에 읽어온 테이블을 이어붙인다. \n",
    "    df = df.append(getting_table)\n",
    "    #카운터 n에 1을 더하고 새로운 loop으로 넘어가자.\n",
    "    n += 1\n",
    "\n",
    "    #한 loop를 마치고 다음으로 넘어가는 데 0.1초 간의 텀을 두라는 함수다. \n",
    "    #너무 많은 양의 페이지 요청을 한꺼번에 보내면 서버에 과부하가 걸려 다운이 되거나 본인의 IP 주소가 막힐 위험이 있으므로 sleep 같은 함수를 포함시켜주는 게 좋다. \n",
    "    sleep(0.1)"
   ]
  },
  {
   "cell_type": "markdown",
   "metadata": {},
   "source": [
    "9개 페이지에 있는 내용을 한꺼번에 가져오는 데 성공했다. 자, 이제 df를 살펴보면 157개의 결과값이 있는 데이터테이블임을 확인할 수 있을 것이다. "
   ]
  },
  {
   "cell_type": "code",
   "execution_count": 46,
   "metadata": {
    "collapsed": false
   },
   "outputs": [
    {
     "data": {
      "text/html": [
       "<div>\n",
       "<table border=\"1\" class=\"dataframe\">\n",
       "  <thead>\n",
       "    <tr style=\"text-align: right;\">\n",
       "      <th></th>\n",
       "      <th>0</th>\n",
       "      <th>1</th>\n",
       "      <th>2</th>\n",
       "    </tr>\n",
       "  </thead>\n",
       "  <tbody>\n",
       "    <tr>\n",
       "      <th>0</th>\n",
       "      <td>공채</td>\n",
       "      <td>[현대건설㈜] BIM분야 경력직모집 (~01/15)</td>\n",
       "      <td>2016/12/30 16:23</td>\n",
       "    </tr>\n",
       "    <tr>\n",
       "      <th>1</th>\n",
       "      <td>공채</td>\n",
       "      <td>[㈜KCC건설] 영업관리(상품개발) 경력사원 채용 (~01/10)</td>\n",
       "      <td>2016/12/29 15:20</td>\n",
       "    </tr>\n",
       "    <tr>\n",
       "      <th>2</th>\n",
       "      <td>공채</td>\n",
       "      <td>[일성건설㈜] 각 부문 경력사원 공개채용 (~01/08)</td>\n",
       "      <td>2016/12/29 14:56</td>\n",
       "    </tr>\n",
       "    <tr>\n",
       "      <th>3</th>\n",
       "      <td>공채</td>\n",
       "      <td>[LG그룹㈜서브원] [건설] 해외견적/예산 경력사원 채용 (~01/08)</td>\n",
       "      <td>2016/12/28 12:58</td>\n",
       "    </tr>\n",
       "    <tr>\n",
       "      <th>4</th>\n",
       "      <td>공채</td>\n",
       "      <td>[㈜모아종합건설] 2016년 하반기 ㈜모아종합건설 신입/경력 채용 (~01/10)</td>\n",
       "      <td>2016/12/27 11:17</td>\n",
       "    </tr>\n",
       "  </tbody>\n",
       "</table>\n",
       "</div>"
      ],
      "text/plain": [
       "    0                                              1                 2\n",
       "0  공채                   [현대건설㈜] BIM분야 경력직모집 (~01/15)  2016/12/30 16:23\n",
       "1  공채           [㈜KCC건설] 영업관리(상품개발) 경력사원 채용 (~01/10)  2016/12/29 15:20\n",
       "2  공채                [일성건설㈜] 각 부문 경력사원 공개채용 (~01/08)  2016/12/29 14:56\n",
       "3  공채       [LG그룹㈜서브원] [건설] 해외견적/예산 경력사원 채용 (~01/08)  2016/12/28 12:58\n",
       "4  공채  [㈜모아종합건설] 2016년 하반기 ㈜모아종합건설 신입/경력 채용 (~01/10)  2016/12/27 11:17"
      ]
     },
     "execution_count": 46,
     "metadata": {},
     "output_type": "execute_result"
    }
   ],
   "source": [
    "#df의 모양을 살펴보자. \n",
    "df.head()"
   ]
  },
  {
   "cell_type": "code",
   "execution_count": 47,
   "metadata": {
    "collapsed": false,
    "scrolled": false
   },
   "outputs": [
    {
     "data": {
      "text/plain": [
       "157"
      ]
     },
     "execution_count": 47,
     "metadata": {},
     "output_type": "execute_result"
    }
   ],
   "source": [
    "#df의 길이를 살펴보자. \n",
    "len(df)"
   ]
  },
  {
   "cell_type": "markdown",
   "metadata": {},
   "source": [
    "#### 3. 가져온 데이터 정리하기\n",
    "그런데 아직 고쳐야 할 게 많아보인다. 우선 각 열의 제목이 0, 1, 2처럼 숫자로 이루어진 걸 볼 수 있다. 이를 좀 더 이해하기 쉬운 단어로 바꿔주자. "
   ]
  },
  {
   "cell_type": "code",
   "execution_count": 48,
   "metadata": {
    "collapsed": false
   },
   "outputs": [],
   "source": [
    "#열제목 재설정\n",
    "df.columns = ['category','title','date']"
   ]
  },
  {
   "cell_type": "markdown",
   "metadata": {},
   "source": [
    "또한 인덱스가 0 부터 156까지 순서대로 나열되기 보다 0에서 19까지를 계속해서 반복하는 것을 볼 수 있다. 이는 최대 20개의 결과값이 있는 테이블을 9번 이어붙였기 때문이다. 이대로 둘 경우, 데이터 자체에 문제가 없지만 특정 데이터값을 불러오고자 할 때 문제가 생길 수 있다. 14번째 값의 공고명을 가져오려고 해보자. "
   ]
  },
  {
   "cell_type": "code",
   "execution_count": 49,
   "metadata": {
    "collapsed": false,
    "scrolled": true
   },
   "outputs": [
    {
     "data": {
      "text/plain": [
       "14            [㈜서희건설] ㈜서희건설 인사&금융&회계 신입/경력 채용 (~12/25)\n",
       "14              [㈜제일건설] 2016년 하반기 각 부문별 직원 채용 (~12/07)\n",
       "14     [현대건설㈜] 2016년 인프라환경 개발사업(철도환경)분야 경력직모집 (~11/13)\n",
       "14           [현대건설㈜] 2016년 첨단연구시설관리 분야 경력직 모집 (~10/16)\n",
       "14    [현대건설㈜] 2016년 경력직(브랜드마케팅/건축/설비/전기분야) 모집 (~10/03)\n",
       "14               [신세계건설㈜] 레저부문 경리/회계 정규직 채용공고 (~09/13)\n",
       "14                   [이테크건설] 2016년 상반기 신입/경력 채용(~6/21)\n",
       "14        [ibs기초과학연구원] 중이온가속기건설구축사업단 정규직원 채용 공고(~2/12)\n",
       "Name: title, dtype: object"
      ]
     },
     "execution_count": 49,
     "metadata": {},
     "output_type": "execute_result"
    }
   ],
   "source": [
    "#14번째 title값을 가져와보자. \n",
    "df.title[14]"
   ]
  },
  {
   "cell_type": "markdown",
   "metadata": {},
   "source": [
    "8개의 결과값이 나오는 것을 봐서는 이어붙이기를 한 8개의 테이블에서 각각 14번째 행을 가져온다는 사실을 유추할 수 있다. \n",
    "\n",
    "이번에는 157개 결과값 중 100번째 값의 공고명 살펴보고자 한다. "
   ]
  },
  {
   "cell_type": "code",
   "execution_count": 50,
   "metadata": {
    "collapsed": false
   },
   "outputs": [
    {
     "ename": "KeyError",
     "evalue": "100",
     "output_type": "error",
     "traceback": [
      "\u001b[1;31m---------------------------------------------------------------------------\u001b[0m",
      "\u001b[1;31mKeyError\u001b[0m                                  Traceback (most recent call last)",
      "\u001b[1;32m<ipython-input-50-2fb40d9f9797>\u001b[0m in \u001b[0;36m<module>\u001b[1;34m()\u001b[0m\n\u001b[0;32m      1\u001b[0m \u001b[1;31m#100번째 title값을 가져와보자.\u001b[0m\u001b[1;33m\u001b[0m\u001b[1;33m\u001b[0m\u001b[0m\n\u001b[1;32m----> 2\u001b[1;33m \u001b[0mdf\u001b[0m\u001b[1;33m.\u001b[0m\u001b[0mtitle\u001b[0m\u001b[1;33m[\u001b[0m\u001b[1;36m100\u001b[0m\u001b[1;33m]\u001b[0m\u001b[1;33m\u001b[0m\u001b[0m\n\u001b[0m",
      "\u001b[1;32mC:\\Users\\Seoweon\\AppData\\Local\\Continuum\\Anaconda2\\envs\\py3\\lib\\site-packages\\pandas\\core\\series.py\u001b[0m in \u001b[0;36m__getitem__\u001b[1;34m(self, key)\u001b[0m\n\u001b[0;32m    601\u001b[0m         \u001b[0mkey\u001b[0m \u001b[1;33m=\u001b[0m \u001b[0mcom\u001b[0m\u001b[1;33m.\u001b[0m\u001b[0m_apply_if_callable\u001b[0m\u001b[1;33m(\u001b[0m\u001b[0mkey\u001b[0m\u001b[1;33m,\u001b[0m \u001b[0mself\u001b[0m\u001b[1;33m)\u001b[0m\u001b[1;33m\u001b[0m\u001b[0m\n\u001b[0;32m    602\u001b[0m         \u001b[1;32mtry\u001b[0m\u001b[1;33m:\u001b[0m\u001b[1;33m\u001b[0m\u001b[0m\n\u001b[1;32m--> 603\u001b[1;33m             \u001b[0mresult\u001b[0m \u001b[1;33m=\u001b[0m \u001b[0mself\u001b[0m\u001b[1;33m.\u001b[0m\u001b[0mindex\u001b[0m\u001b[1;33m.\u001b[0m\u001b[0mget_value\u001b[0m\u001b[1;33m(\u001b[0m\u001b[0mself\u001b[0m\u001b[1;33m,\u001b[0m \u001b[0mkey\u001b[0m\u001b[1;33m)\u001b[0m\u001b[1;33m\u001b[0m\u001b[0m\n\u001b[0m\u001b[0;32m    604\u001b[0m \u001b[1;33m\u001b[0m\u001b[0m\n\u001b[0;32m    605\u001b[0m             \u001b[1;32mif\u001b[0m \u001b[1;32mnot\u001b[0m \u001b[0mis_scalar\u001b[0m\u001b[1;33m(\u001b[0m\u001b[0mresult\u001b[0m\u001b[1;33m)\u001b[0m\u001b[1;33m:\u001b[0m\u001b[1;33m\u001b[0m\u001b[0m\n",
      "\u001b[1;32mC:\\Users\\Seoweon\\AppData\\Local\\Continuum\\Anaconda2\\envs\\py3\\lib\\site-packages\\pandas\\indexes\\base.py\u001b[0m in \u001b[0;36mget_value\u001b[1;34m(self, series, key)\u001b[0m\n\u001b[0;32m   2167\u001b[0m         \u001b[1;32mtry\u001b[0m\u001b[1;33m:\u001b[0m\u001b[1;33m\u001b[0m\u001b[0m\n\u001b[0;32m   2168\u001b[0m             return self._engine.get_value(s, k,\n\u001b[1;32m-> 2169\u001b[1;33m                                           tz=getattr(series.dtype, 'tz', None))\n\u001b[0m\u001b[0;32m   2170\u001b[0m         \u001b[1;32mexcept\u001b[0m \u001b[0mKeyError\u001b[0m \u001b[1;32mas\u001b[0m \u001b[0me1\u001b[0m\u001b[1;33m:\u001b[0m\u001b[1;33m\u001b[0m\u001b[0m\n\u001b[0;32m   2171\u001b[0m             \u001b[1;32mif\u001b[0m \u001b[0mlen\u001b[0m\u001b[1;33m(\u001b[0m\u001b[0mself\u001b[0m\u001b[1;33m)\u001b[0m \u001b[1;33m>\u001b[0m \u001b[1;36m0\u001b[0m \u001b[1;32mand\u001b[0m \u001b[0mself\u001b[0m\u001b[1;33m.\u001b[0m\u001b[0minferred_type\u001b[0m \u001b[1;32min\u001b[0m \u001b[1;33m[\u001b[0m\u001b[1;34m'integer'\u001b[0m\u001b[1;33m,\u001b[0m \u001b[1;34m'boolean'\u001b[0m\u001b[1;33m]\u001b[0m\u001b[1;33m:\u001b[0m\u001b[1;33m\u001b[0m\u001b[0m\n",
      "\u001b[1;32mpandas\\index.pyx\u001b[0m in \u001b[0;36mpandas.index.IndexEngine.get_value (pandas\\index.c:3557)\u001b[1;34m()\u001b[0m\n",
      "\u001b[1;32mpandas\\index.pyx\u001b[0m in \u001b[0;36mpandas.index.IndexEngine.get_value (pandas\\index.c:3240)\u001b[1;34m()\u001b[0m\n",
      "\u001b[1;32mpandas\\index.pyx\u001b[0m in \u001b[0;36mpandas.index.IndexEngine.get_loc (pandas\\index.c:4216)\u001b[1;34m()\u001b[0m\n",
      "\u001b[1;32mpandas\\index.pyx\u001b[0m in \u001b[0;36mpandas.index.IndexEngine._get_loc_duplicates (pandas\\index.c:4663)\u001b[1;34m()\u001b[0m\n",
      "\u001b[1;32mpandas\\index.pyx\u001b[0m in \u001b[0;36mpandas.index.Int64Engine._maybe_get_bool_indexer (pandas\\index.c:8636)\u001b[1;34m()\u001b[0m\n",
      "\u001b[1;31mKeyError\u001b[0m: 100"
     ]
    }
   ],
   "source": [
    "#100번째 title값을 가져와보자. \n",
    "df.title[100]"
   ]
  },
  {
   "cell_type": "markdown",
   "metadata": {},
   "source": [
    "전체 길이가 157개이니, 100번째 행의 값이 분명 존재해야 하지만 에러가 도출되는 이유는 인덱스가 0 - 19의 반복이기 때문이다. \n",
    "\n",
    "이를 고치기 위해서는 인덱스 재설정을 해야 한다. "
   ]
  },
  {
   "cell_type": "code",
   "execution_count": 51,
   "metadata": {
    "collapsed": false
   },
   "outputs": [
    {
     "data": {
      "text/html": [
       "<div>\n",
       "<table border=\"1\" class=\"dataframe\">\n",
       "  <thead>\n",
       "    <tr style=\"text-align: right;\">\n",
       "      <th></th>\n",
       "      <th>index</th>\n",
       "      <th>category</th>\n",
       "      <th>title</th>\n",
       "      <th>date</th>\n",
       "    </tr>\n",
       "  </thead>\n",
       "  <tbody>\n",
       "    <tr>\n",
       "      <th>0</th>\n",
       "      <td>0</td>\n",
       "      <td>공채</td>\n",
       "      <td>[현대건설㈜] BIM분야 경력직모집 (~01/15)</td>\n",
       "      <td>2016/12/30 16:23</td>\n",
       "    </tr>\n",
       "    <tr>\n",
       "      <th>1</th>\n",
       "      <td>1</td>\n",
       "      <td>공채</td>\n",
       "      <td>[㈜KCC건설] 영업관리(상품개발) 경력사원 채용 (~01/10)</td>\n",
       "      <td>2016/12/29 15:20</td>\n",
       "    </tr>\n",
       "    <tr>\n",
       "      <th>2</th>\n",
       "      <td>2</td>\n",
       "      <td>공채</td>\n",
       "      <td>[일성건설㈜] 각 부문 경력사원 공개채용 (~01/08)</td>\n",
       "      <td>2016/12/29 14:56</td>\n",
       "    </tr>\n",
       "    <tr>\n",
       "      <th>3</th>\n",
       "      <td>3</td>\n",
       "      <td>공채</td>\n",
       "      <td>[LG그룹㈜서브원] [건설] 해외견적/예산 경력사원 채용 (~01/08)</td>\n",
       "      <td>2016/12/28 12:58</td>\n",
       "    </tr>\n",
       "    <tr>\n",
       "      <th>4</th>\n",
       "      <td>4</td>\n",
       "      <td>공채</td>\n",
       "      <td>[㈜모아종합건설] 2016년 하반기 ㈜모아종합건설 신입/경력 채용 (~01/10)</td>\n",
       "      <td>2016/12/27 11:17</td>\n",
       "    </tr>\n",
       "  </tbody>\n",
       "</table>\n",
       "</div>"
      ],
      "text/plain": [
       "   index category                                          title  \\\n",
       "0      0       공채                   [현대건설㈜] BIM분야 경력직모집 (~01/15)   \n",
       "1      1       공채           [㈜KCC건설] 영업관리(상품개발) 경력사원 채용 (~01/10)   \n",
       "2      2       공채                [일성건설㈜] 각 부문 경력사원 공개채용 (~01/08)   \n",
       "3      3       공채       [LG그룹㈜서브원] [건설] 해외견적/예산 경력사원 채용 (~01/08)   \n",
       "4      4       공채  [㈜모아종합건설] 2016년 하반기 ㈜모아종합건설 신입/경력 채용 (~01/10)   \n",
       "\n",
       "               date  \n",
       "0  2016/12/30 16:23  \n",
       "1  2016/12/29 15:20  \n",
       "2  2016/12/29 14:56  \n",
       "3  2016/12/28 12:58  \n",
       "4  2016/12/27 11:17  "
      ]
     },
     "execution_count": 51,
     "metadata": {},
     "output_type": "execute_result"
    }
   ],
   "source": [
    "#인덱스 재설정\n",
    "df = df.reset_index()\n",
    "#df를 다시 살펴보자\n",
    "df.head()"
   ]
  },
  {
   "cell_type": "markdown",
   "metadata": {},
   "source": [
    "인덱스가 재설정되긴 했는데, index라는 새로운 열이 생긴 걸 볼 수 있다. 여기에 저장된 숫자들은 인덱스 재설정 전에 있었던 숫자들이다. 정리작업을 마무리하기 위해 이 열 마저 지우자. "
   ]
  },
  {
   "cell_type": "code",
   "execution_count": 52,
   "metadata": {
    "collapsed": false,
    "scrolled": false
   },
   "outputs": [
    {
     "data": {
      "text/html": [
       "<div>\n",
       "<table border=\"1\" class=\"dataframe\">\n",
       "  <thead>\n",
       "    <tr style=\"text-align: right;\">\n",
       "      <th></th>\n",
       "      <th>category</th>\n",
       "      <th>title</th>\n",
       "      <th>date</th>\n",
       "    </tr>\n",
       "  </thead>\n",
       "  <tbody>\n",
       "    <tr>\n",
       "      <th>0</th>\n",
       "      <td>공채</td>\n",
       "      <td>[현대건설㈜] BIM분야 경력직모집 (~01/15)</td>\n",
       "      <td>2016/12/30 16:23</td>\n",
       "    </tr>\n",
       "    <tr>\n",
       "      <th>1</th>\n",
       "      <td>공채</td>\n",
       "      <td>[㈜KCC건설] 영업관리(상품개발) 경력사원 채용 (~01/10)</td>\n",
       "      <td>2016/12/29 15:20</td>\n",
       "    </tr>\n",
       "    <tr>\n",
       "      <th>2</th>\n",
       "      <td>공채</td>\n",
       "      <td>[일성건설㈜] 각 부문 경력사원 공개채용 (~01/08)</td>\n",
       "      <td>2016/12/29 14:56</td>\n",
       "    </tr>\n",
       "    <tr>\n",
       "      <th>3</th>\n",
       "      <td>공채</td>\n",
       "      <td>[LG그룹㈜서브원] [건설] 해외견적/예산 경력사원 채용 (~01/08)</td>\n",
       "      <td>2016/12/28 12:58</td>\n",
       "    </tr>\n",
       "    <tr>\n",
       "      <th>4</th>\n",
       "      <td>공채</td>\n",
       "      <td>[㈜모아종합건설] 2016년 하반기 ㈜모아종합건설 신입/경력 채용 (~01/10)</td>\n",
       "      <td>2016/12/27 11:17</td>\n",
       "    </tr>\n",
       "  </tbody>\n",
       "</table>\n",
       "</div>"
      ],
      "text/plain": [
       "  category                                          title              date\n",
       "0       공채                   [현대건설㈜] BIM분야 경력직모집 (~01/15)  2016/12/30 16:23\n",
       "1       공채           [㈜KCC건설] 영업관리(상품개발) 경력사원 채용 (~01/10)  2016/12/29 15:20\n",
       "2       공채                [일성건설㈜] 각 부문 경력사원 공개채용 (~01/08)  2016/12/29 14:56\n",
       "3       공채       [LG그룹㈜서브원] [건설] 해외견적/예산 경력사원 채용 (~01/08)  2016/12/28 12:58\n",
       "4       공채  [㈜모아종합건설] 2016년 하반기 ㈜모아종합건설 신입/경력 채용 (~01/10)  2016/12/27 11:17"
      ]
     },
     "execution_count": 52,
     "metadata": {},
     "output_type": "execute_result"
    }
   ],
   "source": [
    "#생성된 index 열 지우기\n",
    "df = df.drop('index',axis=1)\n",
    "#최종 df를 확인하자\n",
    "df.head()"
   ]
  },
  {
   "cell_type": "markdown",
   "metadata": {},
   "source": [
    "이제, 다시 14번째 값의 공고명을 살펴보고자 할 때, 한 가지 값만 나오는 것을 확인할 수 있다. "
   ]
  },
  {
   "cell_type": "code",
   "execution_count": 53,
   "metadata": {
    "collapsed": false
   },
   "outputs": [
    {
     "data": {
      "text/plain": [
       "'[㈜서희건설] ㈜서희건설 인사&금융&회계 신입/경력 채용 (~12/25)'"
      ]
     },
     "execution_count": 53,
     "metadata": {},
     "output_type": "execute_result"
    }
   ],
   "source": [
    "df.title[14]"
   ]
  },
  {
   "cell_type": "markdown",
   "metadata": {},
   "source": [
    "100번째 값도 다시 가져와보자. "
   ]
  },
  {
   "cell_type": "code",
   "execution_count": 54,
   "metadata": {
    "collapsed": false
   },
   "outputs": [
    {
     "data": {
      "text/plain": [
       "'[한국건설기술연구원] 2016년 정규직원 채용공고(정정공고) (~10/01)'"
      ]
     },
     "execution_count": 54,
     "metadata": {},
     "output_type": "execute_result"
    }
   ],
   "source": [
    "df.title[100]"
   ]
  },
  {
   "cell_type": "markdown",
   "metadata": {},
   "source": [
    "이제야 제대로 정리된 데이터 테이블이 완성되었다. "
   ]
  },
  {
   "cell_type": "markdown",
   "metadata": {},
   "source": [
    "#### 4. 엑셀에 저장하기\n",
    "언제나처럼 마지막 단계는 이렇게 가져온 데이터를 엑셀에 저장하는 작업이다. "
   ]
  },
  {
   "cell_type": "code",
   "execution_count": 55,
   "metadata": {
    "collapsed": true
   },
   "outputs": [],
   "source": [
    "df.to_excel('사람인_2016_건설.xlsx',index=False)"
   ]
  },
  {
   "cell_type": "markdown",
   "metadata": {},
   "source": [
    "---\n",
    "\n",
    "<p style=\"color:blue\">곁가지 text (참고용) </p>"
   ]
  },
  {
   "cell_type": "markdown",
   "metadata": {},
   "source": [
    "### 한글이 포함된 url\n",
    "간혹가다 쿼리스트링을 다루다 보면, url에 한글이 포함된 경우를 볼 수 있을 것이다. 하지만 보이는 대로 믿고 이걸 곧이곧대로 파이썬에 읽히려고 하면 에러가 생기는 것을 볼 수 있다. "
   ]
  },
  {
   "cell_type": "code",
   "execution_count": 56,
   "metadata": {
    "collapsed": false
   },
   "outputs": [
    {
     "ename": "UnicodeEncodeError",
     "evalue": "'ascii' codec can't encode characters in position 59-62: ordinal not in range(128)",
     "output_type": "error",
     "traceback": [
      "\u001b[1;31m---------------------------------------------------------------------------\u001b[0m",
      "\u001b[1;31mUnicodeEncodeError\u001b[0m                        Traceback (most recent call last)",
      "\u001b[1;32m<ipython-input-56-54759c46e2a1>\u001b[0m in \u001b[0;36m<module>\u001b[1;34m()\u001b[0m\n\u001b[1;32m----> 1\u001b[1;33m \u001b[0mpd\u001b[0m\u001b[1;33m.\u001b[0m\u001b[0mread_html\u001b[0m\u001b[1;33m(\u001b[0m\u001b[1;34m'http://www.saramin.co.kr/zf_user/help/live/index/page/4?base_year=2015&keyword=엔지니어'\u001b[0m\u001b[1;33m)\u001b[0m\u001b[1;33m\u001b[0m\u001b[0m\n\u001b[0m",
      "\u001b[1;32mC:\\Users\\Seoweon\\AppData\\Local\\Continuum\\Anaconda2\\envs\\py3\\lib\\site-packages\\pandas\\io\\html.py\u001b[0m in \u001b[0;36mread_html\u001b[1;34m(io, match, flavor, header, index_col, skiprows, attrs, parse_dates, tupleize_cols, thousands, encoding, decimal, converters, na_values, keep_default_na)\u001b[0m\n\u001b[0;32m    894\u001b[0m                   \u001b[0mthousands\u001b[0m\u001b[1;33m=\u001b[0m\u001b[0mthousands\u001b[0m\u001b[1;33m,\u001b[0m \u001b[0mattrs\u001b[0m\u001b[1;33m=\u001b[0m\u001b[0mattrs\u001b[0m\u001b[1;33m,\u001b[0m \u001b[0mencoding\u001b[0m\u001b[1;33m=\u001b[0m\u001b[0mencoding\u001b[0m\u001b[1;33m,\u001b[0m\u001b[1;33m\u001b[0m\u001b[0m\n\u001b[0;32m    895\u001b[0m                   \u001b[0mdecimal\u001b[0m\u001b[1;33m=\u001b[0m\u001b[0mdecimal\u001b[0m\u001b[1;33m,\u001b[0m \u001b[0mconverters\u001b[0m\u001b[1;33m=\u001b[0m\u001b[0mconverters\u001b[0m\u001b[1;33m,\u001b[0m \u001b[0mna_values\u001b[0m\u001b[1;33m=\u001b[0m\u001b[0mna_values\u001b[0m\u001b[1;33m,\u001b[0m\u001b[1;33m\u001b[0m\u001b[0m\n\u001b[1;32m--> 896\u001b[1;33m                   keep_default_na=keep_default_na)\n\u001b[0m",
      "\u001b[1;32mC:\\Users\\Seoweon\\AppData\\Local\\Continuum\\Anaconda2\\envs\\py3\\lib\\site-packages\\pandas\\io\\html.py\u001b[0m in \u001b[0;36m_parse\u001b[1;34m(flavor, io, match, attrs, encoding, **kwargs)\u001b[0m\n\u001b[0;32m    731\u001b[0m             \u001b[1;32mbreak\u001b[0m\u001b[1;33m\u001b[0m\u001b[0m\n\u001b[0;32m    732\u001b[0m     \u001b[1;32melse\u001b[0m\u001b[1;33m:\u001b[0m\u001b[1;33m\u001b[0m\u001b[0m\n\u001b[1;32m--> 733\u001b[1;33m         \u001b[0mraise_with_traceback\u001b[0m\u001b[1;33m(\u001b[0m\u001b[0mretained\u001b[0m\u001b[1;33m)\u001b[0m\u001b[1;33m\u001b[0m\u001b[0m\n\u001b[0m\u001b[0;32m    734\u001b[0m \u001b[1;33m\u001b[0m\u001b[0m\n\u001b[0;32m    735\u001b[0m     \u001b[0mret\u001b[0m \u001b[1;33m=\u001b[0m \u001b[1;33m[\u001b[0m\u001b[1;33m]\u001b[0m\u001b[1;33m\u001b[0m\u001b[0m\n",
      "\u001b[1;32mC:\\Users\\Seoweon\\AppData\\Local\\Continuum\\Anaconda2\\envs\\py3\\lib\\site-packages\\pandas\\compat\\__init__.py\u001b[0m in \u001b[0;36mraise_with_traceback\u001b[1;34m(exc, traceback)\u001b[0m\n\u001b[0;32m    338\u001b[0m         \u001b[1;32mif\u001b[0m \u001b[0mtraceback\u001b[0m \u001b[1;33m==\u001b[0m \u001b[0mEllipsis\u001b[0m\u001b[1;33m:\u001b[0m\u001b[1;33m\u001b[0m\u001b[0m\n\u001b[0;32m    339\u001b[0m             \u001b[0m_\u001b[0m\u001b[1;33m,\u001b[0m \u001b[0m_\u001b[0m\u001b[1;33m,\u001b[0m \u001b[0mtraceback\u001b[0m \u001b[1;33m=\u001b[0m \u001b[0msys\u001b[0m\u001b[1;33m.\u001b[0m\u001b[0mexc_info\u001b[0m\u001b[1;33m(\u001b[0m\u001b[1;33m)\u001b[0m\u001b[1;33m\u001b[0m\u001b[0m\n\u001b[1;32m--> 340\u001b[1;33m         \u001b[1;32mraise\u001b[0m \u001b[0mexc\u001b[0m\u001b[1;33m.\u001b[0m\u001b[0mwith_traceback\u001b[0m\u001b[1;33m(\u001b[0m\u001b[0mtraceback\u001b[0m\u001b[1;33m)\u001b[0m\u001b[1;33m\u001b[0m\u001b[0m\n\u001b[0m\u001b[0;32m    341\u001b[0m \u001b[1;32melse\u001b[0m\u001b[1;33m:\u001b[0m\u001b[1;33m\u001b[0m\u001b[0m\n\u001b[0;32m    342\u001b[0m     \u001b[1;31m# this version of raise is a syntax error in Python 3\u001b[0m\u001b[1;33m\u001b[0m\u001b[1;33m\u001b[0m\u001b[0m\n",
      "\u001b[1;31mUnicodeEncodeError\u001b[0m: 'ascii' codec can't encode characters in position 59-62: ordinal not in range(128)"
     ]
    }
   ],
   "source": [
    "pd.read_html('http://www.saramin.co.kr/zf_user/help/live/index/page/1?base_year=2015&keyword=엔지니어')[0]"
   ]
  },
  {
   "cell_type": "markdown",
   "metadata": {},
   "source": [
    "위에 나오는 에러 메세지는 무엇을 의미하는 걸까? 이에 대한 힌트를 얻기 위해서 브라우저에서 해당 링크를 복사해 Jupyter Notebook에 다시 붙여넣으면 어떤 일이 생기는 지 보자. \n",
    "\n",
    "'엔지니어'라는 한글 대신 **%EC%97%94%EC%A7%80%EB%8B%88%EC%96%B4** 같은 이상한 결과값이 나오는 걸 확인할 수 있다. 이는 브라우저 자체에서 한글을 url에 표기하기 위해 자동으로 utf-8이라는 문자 인코딩 방식으로 전환한 것이다. 현재 웹크롤링 예시에서는 한글이 포함된 url을 손쉽게 브라우저에서 복사해서 utf-8값을 가져올 수 있지만, 만약 검색어를 수시로 바꾸거나 10개 이상 나열해서 url에 대입해서 웹크롤링을 해야 하면 어떡할까? 이를 위한 라이브러리 또한 손쉽게 준비되어 있다."
   ]
  },
  {
   "cell_type": "markdown",
   "metadata": {},
   "source": [
    "우선 원하는 단어를 변수로 저장하자. "
   ]
  },
  {
   "cell_type": "code",
   "execution_count": 59,
   "metadata": {
    "collapsed": false
   },
   "outputs": [],
   "source": [
    "term = '엔지니어'"
   ]
  },
  {
   "cell_type": "markdown",
   "metadata": {},
   "source": [
    "'엔지니어' 단어를 utf-8으로 인코딩하면 다음과 같이 표기된다. "
   ]
  },
  {
   "cell_type": "code",
   "execution_count": 63,
   "metadata": {
    "collapsed": false
   },
   "outputs": [
    {
     "data": {
      "text/plain": [
       "b'\\xec\\x97\\x94\\xec\\xa7\\x80\\xeb\\x8b\\x88\\xec\\x96\\xb4'"
      ]
     },
     "execution_count": 63,
     "metadata": {},
     "output_type": "execute_result"
    }
   ],
   "source": [
    "term.encode('utf-8')"
   ]
  },
  {
   "cell_type": "markdown",
   "metadata": {},
   "source": [
    "인코딩이 되긴 되는데, url에 넣는 형식으로 나오지는 않는 것 같다. 자세히 살펴보면, url에서는 \"%\" 표시가 들어가는 곳에 대신 \"\\x\" 표시가 들어갔고, url에는 대문자로 들어가는 알파벳이 여기서는 소문자로 들어간 것을 볼 수 있다. 이를 해결시켜주는 게 urllib이라는 라이브러리다. "
   ]
  },
  {
   "cell_type": "code",
   "execution_count": 58,
   "metadata": {
    "collapsed": true
   },
   "outputs": [],
   "source": [
    "import urllib"
   ]
  },
  {
   "cell_type": "markdown",
   "metadata": {},
   "source": [
    "인코딩된 단어를 urllib의 parse.quote 함수를 사용해서 변환시켜주면 비로소 url에 포함시키기에 적합한 형식이 된다. "
   ]
  },
  {
   "cell_type": "code",
   "execution_count": 64,
   "metadata": {
    "collapsed": false
   },
   "outputs": [
    {
     "data": {
      "text/plain": [
       "'%EC%97%94%EC%A7%80%EB%8B%88%EC%96%B4'"
      ]
     },
     "execution_count": 64,
     "metadata": {},
     "output_type": "execute_result"
    }
   ],
   "source": [
    "term_url = urllib.parse.quote(term.encode('utf-8'))\n",
    "term_url"
   ]
  },
  {
   "cell_type": "markdown",
   "metadata": {},
   "source": [
    "자, 이제 마지막 확인을 위해 앞에서 준비했던 url에 저장된 term_url을 이어붙이면 pandas의 read_html 함수가 에러 없이 실행되는 지 살펴보자. "
   ]
  },
  {
   "cell_type": "code",
   "execution_count": 66,
   "metadata": {
    "collapsed": false
   },
   "outputs": [
    {
     "data": {
      "text/html": [
       "<div>\n",
       "<table border=\"1\" class=\"dataframe\">\n",
       "  <thead>\n",
       "    <tr style=\"text-align: right;\">\n",
       "      <th></th>\n",
       "      <th>0</th>\n",
       "      <th>1</th>\n",
       "      <th>2</th>\n",
       "    </tr>\n",
       "  </thead>\n",
       "  <tbody>\n",
       "    <tr>\n",
       "      <th>0</th>\n",
       "      <td>소식</td>\n",
       "      <td>[알림] 동부엔지니어링 2016년 대졸신입사원 모집 서류전형 결과 발표 안내</td>\n",
       "      <td>2015/12/10 16:02</td>\n",
       "    </tr>\n",
       "    <tr>\n",
       "      <th>1</th>\n",
       "      <td>공채</td>\n",
       "      <td>[참엔지니어링] 2015년도 신입/경력 공채 합격족보를 확인하세요!!</td>\n",
       "      <td>2015/11/24 17:16</td>\n",
       "    </tr>\n",
       "    <tr>\n",
       "      <th>2</th>\n",
       "      <td>공채</td>\n",
       "      <td>[알림] 탑엔지니어링 2016년 신입/경력 채용 공고 서류전형 결과 발표 안내</td>\n",
       "      <td>2015/11/24 11:02</td>\n",
       "    </tr>\n",
       "    <tr>\n",
       "      <th>3</th>\n",
       "      <td>공채</td>\n",
       "      <td>★최초★[참엔지니어링] 신입/경력 공채(~12/4)</td>\n",
       "      <td>2015/11/23 17:37</td>\n",
       "    </tr>\n",
       "    <tr>\n",
       "      <th>4</th>\n",
       "      <td>공채</td>\n",
       "      <td>[동부엔지니어링] 2016년 대졸신입사원 모집 합격족보를 확인하세요!!</td>\n",
       "      <td>2015/11/11 17:41</td>\n",
       "    </tr>\n",
       "    <tr>\n",
       "      <th>5</th>\n",
       "      <td>공채</td>\n",
       "      <td>속보! [동부엔지니어링] 2016년 대졸신입사원 모집(~11/24)</td>\n",
       "      <td>2015/11/11 09:40</td>\n",
       "    </tr>\n",
       "    <tr>\n",
       "      <th>6</th>\n",
       "      <td>공채</td>\n",
       "      <td>[탑엔지니어링] 2016년도 신입/경력 채용 공고 합격족보를 확인하세요!!</td>\n",
       "      <td>2015/11/03 17:23</td>\n",
       "    </tr>\n",
       "    <tr>\n",
       "      <th>7</th>\n",
       "      <td>공채</td>\n",
       "      <td>★최초★[탑엔지니어링] 2016년 신입/경력 채용 공고(~11/14)</td>\n",
       "      <td>2015/11/02 10:21</td>\n",
       "    </tr>\n",
       "    <tr>\n",
       "      <th>8</th>\n",
       "      <td>공채</td>\n",
       "      <td>[도화엔지니어링] 2016년 신입사원 채용공고 합격족보를 확인하세요!!</td>\n",
       "      <td>2015/10/21 14:41</td>\n",
       "    </tr>\n",
       "    <tr>\n",
       "      <th>9</th>\n",
       "      <td>공채</td>\n",
       "      <td>[알림] 도화엔지니어링 접수기한 10월 22일까지 마감임박!!</td>\n",
       "      <td>2015/10/21 10:33</td>\n",
       "    </tr>\n",
       "    <tr>\n",
       "      <th>10</th>\n",
       "      <td>공채</td>\n",
       "      <td>[알림] 포스코엔지니어링 접수기한 10월 21일까지 마감임박!!</td>\n",
       "      <td>2015/10/20 08:52</td>\n",
       "    </tr>\n",
       "    <tr>\n",
       "      <th>11</th>\n",
       "      <td>공채</td>\n",
       "      <td>★최초★[도화엔지니어링] 2016년 신입사원 채용공고(~10/22)</td>\n",
       "      <td>2015/10/14 10:56</td>\n",
       "    </tr>\n",
       "    <tr>\n",
       "      <th>12</th>\n",
       "      <td>공채</td>\n",
       "      <td>★최초★[포스코엔지니어링] 신입사원 채용(~10/21)</td>\n",
       "      <td>2015/10/12 08:58</td>\n",
       "    </tr>\n",
       "    <tr>\n",
       "      <th>13</th>\n",
       "      <td>공채</td>\n",
       "      <td>[현대엔지니어링] 2016 신입사원 채용공고 합격족보를 확인하세요!!</td>\n",
       "      <td>2015/09/03 17:52</td>\n",
       "    </tr>\n",
       "    <tr>\n",
       "      <th>14</th>\n",
       "      <td>공채</td>\n",
       "      <td>[독점] KT/현대건설 外 18건 공채 Real 자소서 대공개!</td>\n",
       "      <td>2015/09/02 21:03</td>\n",
       "    </tr>\n",
       "    <tr>\n",
       "      <th>15</th>\n",
       "      <td>공채</td>\n",
       "      <td>★최초★[현대엔지니어링] 2015년 현대엔지니어링 IT분야 채용공고(~9/13)</td>\n",
       "      <td>2015/09/02 08:27</td>\n",
       "    </tr>\n",
       "    <tr>\n",
       "      <th>16</th>\n",
       "      <td>공채</td>\n",
       "      <td>★최초★[현대엔지니어링] 2016년 신입사원 채용공고(~9/15)</td>\n",
       "      <td>2015/09/01 10:01</td>\n",
       "    </tr>\n",
       "    <tr>\n",
       "      <th>17</th>\n",
       "      <td>공채</td>\n",
       "      <td>[독점] 현대자동차, 효성그룹 外 38건 채용설명회 후기 대공개!</td>\n",
       "      <td>2015/08/31 11:41</td>\n",
       "    </tr>\n",
       "    <tr>\n",
       "      <th>18</th>\n",
       "      <td>공채</td>\n",
       "      <td>★최초★[참엔지니어링] 참엔지니어링 신입/경력 공채(~8/31)</td>\n",
       "      <td>2015/08/19 13:04</td>\n",
       "    </tr>\n",
       "    <tr>\n",
       "      <th>19</th>\n",
       "      <td>공채</td>\n",
       "      <td>★최초★[동아화성] 2015년 각 부문 경력/신입사원 공개채용 [영업개발부,연구부,...</td>\n",
       "      <td>2015/08/19 08:47</td>\n",
       "    </tr>\n",
       "  </tbody>\n",
       "</table>\n",
       "</div>"
      ],
      "text/plain": [
       "     0                                                  1                 2\n",
       "0   소식         [알림] 동부엔지니어링 2016년 대졸신입사원 모집 서류전형 결과 발표 안내  2015/12/10 16:02\n",
       "1   공채             [참엔지니어링] 2015년도 신입/경력 공채 합격족보를 확인하세요!!  2015/11/24 17:16\n",
       "2   공채        [알림] 탑엔지니어링 2016년 신입/경력 채용 공고 서류전형 결과 발표 안내  2015/11/24 11:02\n",
       "3   공채                       ★최초★[참엔지니어링] 신입/경력 공채(~12/4)  2015/11/23 17:37\n",
       "4   공채            [동부엔지니어링] 2016년 대졸신입사원 모집 합격족보를 확인하세요!!  2015/11/11 17:41\n",
       "5   공채              속보! [동부엔지니어링] 2016년 대졸신입사원 모집(~11/24)  2015/11/11 09:40\n",
       "6   공채          [탑엔지니어링] 2016년도 신입/경력 채용 공고 합격족보를 확인하세요!!  2015/11/03 17:23\n",
       "7   공채             ★최초★[탑엔지니어링] 2016년 신입/경력 채용 공고(~11/14)  2015/11/02 10:21\n",
       "8   공채            [도화엔지니어링] 2016년 신입사원 채용공고 합격족보를 확인하세요!!  2015/10/21 14:41\n",
       "9   공채                 [알림] 도화엔지니어링 접수기한 10월 22일까지 마감임박!!  2015/10/21 10:33\n",
       "10  공채                [알림] 포스코엔지니어링 접수기한 10월 21일까지 마감임박!!  2015/10/20 08:52\n",
       "11  공채              ★최초★[도화엔지니어링] 2016년 신입사원 채용공고(~10/22)  2015/10/14 10:56\n",
       "12  공채                     ★최초★[포스코엔지니어링] 신입사원 채용(~10/21)  2015/10/12 08:58\n",
       "13  공채             [현대엔지니어링] 2016 신입사원 채용공고 합격족보를 확인하세요!!  2015/09/03 17:52\n",
       "14  공채                [독점] KT/현대건설 外 18건 공채 Real 자소서 대공개!  2015/09/02 21:03\n",
       "15  공채       ★최초★[현대엔지니어링] 2015년 현대엔지니어링 IT분야 채용공고(~9/13)  2015/09/02 08:27\n",
       "16  공채               ★최초★[현대엔지니어링] 2016년 신입사원 채용공고(~9/15)  2015/09/01 10:01\n",
       "17  공채               [독점] 현대자동차, 효성그룹 外 38건 채용설명회 후기 대공개!  2015/08/31 11:41\n",
       "18  공채                ★최초★[참엔지니어링] 참엔지니어링 신입/경력 공채(~8/31)  2015/08/19 13:04\n",
       "19  공채  ★최초★[동아화성] 2015년 각 부문 경력/신입사원 공개채용 [영업개발부,연구부,...  2015/08/19 08:47"
      ]
     },
     "execution_count": 66,
     "metadata": {},
     "output_type": "execute_result"
    }
   ],
   "source": [
    "pd.read_html('http://www.saramin.co.kr/zf_user/help/live/index/page/1?base_year=2015&keyword='+term_url)[0]"
   ]
  },
  {
   "cell_type": "markdown",
   "metadata": {},
   "source": [
    "***\n",
    "<p style=\"color:blue\">여기까지 샘플원고로 구상한 내용이고 아래는 같은 데이터를 가지고 그 이후 심화단계로 text 분석을 하는 내용입니다. </p>"
   ]
  },
  {
   "cell_type": "markdown",
   "metadata": {},
   "source": [
    "## <p style=\"color:blue\">텍스트 형식에 따라 따로 열로 분리하기</p>\n",
    "제목이 **\"[기업명] 진짜 제목 (~마감날짜)\"**로 구성된 것에 착안하여 3가지 열로 분리하는 작업을 보여줄 수 있다. "
   ]
  },
  {
   "cell_type": "code",
   "execution_count": null,
   "metadata": {
    "collapsed": false
   },
   "outputs": [],
   "source": [
    "#제목을 분해해서 새로운 열을 만들기 위한 사전작업 --> 빈 열 만들기\n",
    "df['organization']=''\n",
    "df['duedate'] = ''\n",
    "df['text'] = ''"
   ]
  },
  {
   "cell_type": "code",
   "execution_count": null,
   "metadata": {
    "collapsed": false
   },
   "outputs": [],
   "source": [
    "#제목 (title) 분해작업 시작\n",
    "for index, row in df.iterrows(): \n",
    "    #대괄호 [] 안에 들어있는 기관명 가져오기\n",
    "    a = row.title.split(']')\n",
    "    organization = a[0].replace('[','')\n",
    "    row.organization = organization\n",
    "    #괄호 안에 들어있는 마감날짜 가져오기\n",
    "    b = row.title.replace(organization,'').replace('[] ','')\n",
    "    duedate = b.split('(~')[-1].replace(')','')\n",
    "    row.duedate = duedate\n",
    "    #기관명과 마감날짜를 제외한 텍스트 보존하기\n",
    "    row.text = b.replace(\" (~\"+duedate+\")\",'')"
   ]
  },
  {
   "cell_type": "code",
   "execution_count": null,
   "metadata": {
    "collapsed": false,
    "scrolled": false
   },
   "outputs": [],
   "source": [
    "#이제 내용이 redundant한 기존의 title 열을 지울 수 있다\n",
    "df = df.drop('title',axis=1)"
   ]
  },
  {
   "cell_type": "markdown",
   "metadata": {},
   "source": [
    "## <p style=\"color:blue\">특정 텍스트 포함 유무로 Y/N 열 만들기</p>"
   ]
  },
  {
   "cell_type": "code",
   "execution_count": null,
   "metadata": {
    "collapsed": false
   },
   "outputs": [],
   "source": [
    "df['experience'] = ''\n",
    "for index, row in df.iterrows():\n",
    "    if row.text.find('경력') != -1:\n",
    "        row.experience = 'Y'"
   ]
  },
  {
   "cell_type": "code",
   "execution_count": null,
   "metadata": {
    "collapsed": true
   },
   "outputs": [],
   "source": [
    "df['new'] = ''\n",
    "for index, row in df.iterrows():\n",
    "    if row.text.find('신입') != -1:\n",
    "        row.new = 'Y'"
   ]
  },
  {
   "cell_type": "code",
   "execution_count": null,
   "metadata": {
    "collapsed": false
   },
   "outputs": [],
   "source": [
    "df['intern'] = ''\n",
    "for index, row in df.iterrows():\n",
    "    if row.text.find('인턴') != -1:\n",
    "        row.intern = 'Y'"
   ]
  },
  {
   "cell_type": "code",
   "execution_count": null,
   "metadata": {
    "collapsed": true
   },
   "outputs": [],
   "source": [
    "df['contract'] = ''\n",
    "for index, row in df.iterrows():\n",
    "    if row.text.find('계약') != -1:\n",
    "        row.contract = 'Y'"
   ]
  }
 ],
 "metadata": {
  "kernelspec": {
   "display_name": "Python 3",
   "language": "python",
   "name": "python3"
  },
  "language_info": {
   "codemirror_mode": {
    "name": "ipython",
    "version": 3
   },
   "file_extension": ".py",
   "mimetype": "text/x-python",
   "name": "python",
   "nbconvert_exporter": "python",
   "pygments_lexer": "ipython3",
   "version": "3.6.0"
  }
 },
 "nbformat": 4,
 "nbformat_minor": 2
}
